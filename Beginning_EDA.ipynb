{
 "cells": [
  {
   "cell_type": "code",
   "execution_count": 8,
   "metadata": {},
   "outputs": [],
   "source": [
    "import pandas as pd\n",
    "import numpy as np\n",
    "import seaborn as sns\n",
    "import matplotlib.pyplot as plt"
   ]
  },
  {
   "cell_type": "markdown",
   "metadata": {},
   "source": [
    "Note, my EDA is still a work in progress and I will be improving the data set later as I discover more insights"
   ]
  },
  {
   "cell_type": "code",
   "execution_count": 9,
   "metadata": {},
   "outputs": [],
   "source": [
    "# Read in my raw scraped data\n",
    "df = pd.read_csv(\"yoyo_raw_data.csv\")"
   ]
  },
  {
   "cell_type": "code",
   "execution_count": 10,
   "metadata": {},
   "outputs": [],
   "source": [
    "# I'm dropping the url because it doesn't matter for the analysis\n",
    "df = df.drop('url', axis=1)"
   ]
  },
  {
   "cell_type": "code",
   "execution_count": 11,
   "metadata": {},
   "outputs": [
    {
     "name": "stderr",
     "output_type": "stream",
     "text": [
      "C:\\Users\\kaden\\AppData\\Local\\Temp\\ipykernel_15512\\2318031119.py:2: FutureWarning: The default value of regex will change from True to False in a future version. In addition, single character regular expressions will *not* be treated as literal strings when regex=True.\n",
      "  df['price'] = pd.to_numeric(df['price'].str.replace('$', '').str.replace(' ', ''))\n"
     ]
    }
   ],
   "source": [
    "# Changing Price and weight to numbers\n",
    "df['price'] = pd.to_numeric(df['price'].str.replace('$', '').str.replace(' ', ''))\n",
    "df['weight'] = pd.to_numeric(df['weight'].str.replace('grams', '').str.replace(' ', '').str.replace('g',''))"
   ]
  },
  {
   "cell_type": "code",
   "execution_count": 12,
   "metadata": {},
   "outputs": [
    {
     "name": "stderr",
     "output_type": "stream",
     "text": [
      "C:\\Users\\kaden\\AppData\\Local\\Temp\\ipykernel_15512\\4116986239.py:2: FutureWarning: In a future version of pandas all arguments of StringMethods.split except for the argument 'pat' will be keyword-only.\n",
      "  df[['brand', 'description']] = df['brand'].str.split(' - ', 1, expand=True)\n"
     ]
    }
   ],
   "source": [
    "# Split 'brand' column into 'brand' and 'description' columns\n",
    "df[['brand', 'description']] = df['brand'].str.split(' - ', 1, expand=True)\n",
    "\n",
    "# Remove leading and trailing whitespace\n",
    "df['brand'] = df['brand'].str.strip()\n",
    "df['description'] = df['description'].str.strip()\n"
   ]
  },
  {
   "cell_type": "code",
   "execution_count": 13,
   "metadata": {},
   "outputs": [],
   "source": [
    "# Change date to date format\n",
    "df['released'] = pd.to_datetime(df['released'])"
   ]
  },
  {
   "cell_type": "code",
   "execution_count": 14,
   "metadata": {},
   "outputs": [
    {
     "data": {
      "text/html": [
       "<div>\n",
       "<style scoped>\n",
       "    .dataframe tbody tr th:only-of-type {\n",
       "        vertical-align: middle;\n",
       "    }\n",
       "\n",
       "    .dataframe tbody tr th {\n",
       "        vertical-align: top;\n",
       "    }\n",
       "\n",
       "    .dataframe thead th {\n",
       "        text-align: right;\n",
       "    }\n",
       "</style>\n",
       "<table border=\"1\" class=\"dataframe\">\n",
       "  <thead>\n",
       "    <tr style=\"text-align: right;\">\n",
       "      <th></th>\n",
       "      <th>name</th>\n",
       "      <th>price</th>\n",
       "      <th>brand</th>\n",
       "      <th>diameter</th>\n",
       "      <th>width</th>\n",
       "      <th>gap width</th>\n",
       "      <th>weight</th>\n",
       "      <th>bearing size</th>\n",
       "      <th>response</th>\n",
       "      <th>material</th>\n",
       "      <th>designed in</th>\n",
       "      <th>made in</th>\n",
       "      <th>machined in</th>\n",
       "      <th>released</th>\n",
       "      <th>description</th>\n",
       "    </tr>\n",
       "  </thead>\n",
       "  <tbody>\n",
       "    <tr>\n",
       "      <th>465</th>\n",
       "      <td>Anglam Zero Apogee</td>\n",
       "      <td>969.99</td>\n",
       "      <td>sOMEThING</td>\n",
       "      <td>55.21 mm / 2.17 inches</td>\n",
       "      <td>42.81 mm / 1.67 inches</td>\n",
       "      <td>4.62 mm / 0.18 inches</td>\n",
       "      <td>65.5</td>\n",
       "      <td>Size C (.250 x .500 x .187)</td>\n",
       "      <td>sOMEThING Pads</td>\n",
       "      <td>Titanium w/ Stainless Steel</td>\n",
       "      <td>Japan</td>\n",
       "      <td>China</td>\n",
       "      <td>NaN</td>\n",
       "      <td>2021-05-01</td>\n",
       "      <td>Titanium/Steel Anglam design!</td>\n",
       "    </tr>\n",
       "    <tr>\n",
       "      <th>463</th>\n",
       "      <td>Anglam Zero</td>\n",
       "      <td>699.99</td>\n",
       "      <td>sOMEThING</td>\n",
       "      <td>55.21 mm / 2.17 inches</td>\n",
       "      <td>42.38 mm / 1.67 inches</td>\n",
       "      <td>4.62 mm / 0.18 inches</td>\n",
       "      <td>65.6</td>\n",
       "      <td>Size C (.250 x .500 x .187)</td>\n",
       "      <td>sOMEThING Pads</td>\n",
       "      <td>Titanium</td>\n",
       "      <td>Japan</td>\n",
       "      <td>China</td>\n",
       "      <td>NaN</td>\n",
       "      <td>2021-05-01</td>\n",
       "      <td>Titanium Anglam!</td>\n",
       "    </tr>\n",
       "    <tr>\n",
       "      <th>6</th>\n",
       "      <td>Full Metal Damascus</td>\n",
       "      <td>625.00</td>\n",
       "      <td>ENSO</td>\n",
       "      <td>56.79 mm / 2.24 inches</td>\n",
       "      <td>43.48 mm / 1.71 inches</td>\n",
       "      <td>4.69 mm / 0.18 inches</td>\n",
       "      <td>64.1</td>\n",
       "      <td>Size C (.250 x .500 x .187)</td>\n",
       "      <td>\"Slim Pad\" Size 19mm OD</td>\n",
       "      <td>Titanium w/ EngravedDamascus Steel Rims</td>\n",
       "      <td>USA</td>\n",
       "      <td>China</td>\n",
       "      <td>NaN</td>\n",
       "      <td>2023-07-01</td>\n",
       "      <td>High Performance Titanium x Damascus Steel Rim...</td>\n",
       "    </tr>\n",
       "  </tbody>\n",
       "</table>\n",
       "</div>"
      ],
      "text/plain": [
       "                    name   price      brand                diameter  \\\n",
       "465   Anglam Zero Apogee  969.99  sOMEThING  55.21 mm / 2.17 inches   \n",
       "463          Anglam Zero  699.99  sOMEThING  55.21 mm / 2.17 inches   \n",
       "6    Full Metal Damascus  625.00       ENSO  56.79 mm / 2.24 inches   \n",
       "\n",
       "                      width              gap width  weight  \\\n",
       "465  42.81 mm / 1.67 inches  4.62 mm / 0.18 inches    65.5   \n",
       "463  42.38 mm / 1.67 inches  4.62 mm / 0.18 inches    65.6   \n",
       "6    43.48 mm / 1.71 inches  4.69 mm / 0.18 inches    64.1   \n",
       "\n",
       "                    bearing size                 response  \\\n",
       "465  Size C (.250 x .500 x .187)           sOMEThING Pads   \n",
       "463  Size C (.250 x .500 x .187)           sOMEThING Pads   \n",
       "6    Size C (.250 x .500 x .187)  \"Slim Pad\" Size 19mm OD   \n",
       "\n",
       "                                    material designed in made in machined in  \\\n",
       "465              Titanium w/ Stainless Steel       Japan   China         NaN   \n",
       "463                                 Titanium       Japan   China         NaN   \n",
       "6    Titanium w/ EngravedDamascus Steel Rims         USA   China         NaN   \n",
       "\n",
       "      released                                        description  \n",
       "465 2021-05-01                      Titanium/Steel Anglam design!  \n",
       "463 2021-05-01                                   Titanium Anglam!  \n",
       "6   2023-07-01  High Performance Titanium x Damascus Steel Rim...  "
      ]
     },
     "execution_count": 14,
     "metadata": {},
     "output_type": "execute_result"
    }
   ],
   "source": [
    "# Looking at the 3 most expensive yoyo's\n",
    "df.sort_values(by=\"price\", ascending=False).head(3)"
   ]
  },
  {
   "cell_type": "code",
   "execution_count": 15,
   "metadata": {},
   "outputs": [
    {
     "data": {
      "image/png": "[encoded data removed]",
      "text/plain": [
       "<Figure size 640x480 with 1 Axes>"
      ]
     },
     "metadata": {},
     "output_type": "display_data"
    }
   ],
   "source": [
    "# Price by weight\n",
    "sns.scatterplot(x='price', y='weight', data=df)\n",
    "plt.xlabel('Price')\n",
    "plt.ylabel('Weight')\n",
    "plt.title('Yoyo Price by Weight')\n",
    "plt.show()"
   ]
  }
 ],
 "metadata": {
  "kernelspec": {
   "display_name": "stat386",
   "language": "python",
   "name": "python3"
  },
  "language_info": {
   "codemirror_mode": {
    "name": "ipython",
    "version": 3
   },
   "file_extension": ".py",
   "mimetype": "text/x-python",
   "name": "python",
   "nbconvert_exporter": "python",
   "pygments_lexer": "ipython3",
   "version": "3.10.12"
  }
 },
 "nbformat": 4,
 "nbformat_minor": 2
}
